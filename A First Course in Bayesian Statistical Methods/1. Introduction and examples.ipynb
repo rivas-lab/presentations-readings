{
 "cells": [
  {
   "cell_type": "markdown",
   "metadata": {},
   "source": [
    "# 1.1 Introduction\n",
    "\n",
    "* **Bayesian inference**: the process of inductive learning via Bayes' rule\n",
    "* **sample space $\\mathcal{Y}$**: set of all possible datasets\n",
    "* **$y \\in \\mathcal{Y}$**: $y$ is a single dataset from $\\mathcal{Y}$\n",
    "* **parameter space $\\Theta$**: set of possible parameter values\n",
    "\n",
    "Bayesian learning starts with a numerical formulation of joint beliefs\n",
    "about $y$ and $\\theta$ expressed in terms of probability distributions over\n",
    "$\\mathcal{Y}$ and $\\Theta$.\n",
    "\n",
    "1. For each numerical value $\\theta \\in \\Theta$, our **prior distribution** $p\\left(\\theta\\right)$\n",
    "describes our belief that $\\theta$ represents the true population characteristics.\n",
    "2. For each $\\theta \\in \\Theta$ and $y \\in \\mathcal{Y}$, our **sampling model** $p\\left(y|\\theta\\right)$\n",
    "describes our belief that $y$ would be the outcome of the study if we knew $\\theta$ to be true.\n",
    "3. Once we obtain the data $y$, the last step is to update our beliefs about $\\theta$: For each numerical value of $\\theta \\in \\Theta$, our **posterior distribution** $p\\left(\\theta|y\\right)$\n",
    "describes our belief that $\\theta$ is the true value, having observed dataset $y$.\n",
    "\n",
    "The posterior distribution is obtained from the prior and sampling model via Bayes' rule:\n",
    "\n",
    "$$p\\left(\\theta|y\\right) = \\frac{p\\left(y|\\theta\\right)p\\left(\\theta\\right)}\n",
    "{\\int_{\\Theta}p\\left(y|\\tilde\\theta\\right)p\\left(\\tilde\\theta\\right)d\\tilde\\theta}$$\n",
    "\n",
    "* Beta distribution: \n",
    "    * $\\theta \\sim \\textrm{beta}\\left(a, b\\right)$\n",
    "    * $E\\left(\\theta\\right) = \\frac{a}{a + b}$\n",
    "    * $\\textrm{mode}\\left(\\theta\\right) = \\frac{a - 1}{a - 1 + b - 1}$"
   ]
  },
  {
   "cell_type": "code",
   "execution_count": null,
   "metadata": {
    "collapsed": true
   },
   "outputs": [],
   "source": []
  }
 ],
 "metadata": {
  "anaconda-cloud": {},
  "kernelspec": {
   "display_name": "Python [conda env:test2]",
   "language": "python",
   "name": "conda-env-test2-py"
  },
  "language_info": {
   "codemirror_mode": {
    "name": "ipython",
    "version": 2
   },
   "file_extension": ".py",
   "mimetype": "text/x-python",
   "name": "python",
   "nbconvert_exporter": "python",
   "pygments_lexer": "ipython2",
   "version": "2.7.13"
  }
 },
 "nbformat": 4,
 "nbformat_minor": 0
}
